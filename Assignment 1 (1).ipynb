{
 "cells": [
  {
   "cell_type": "code",
   "execution_count": 1,
   "id": "083556cc-9c22-4c3b-8c6a-299e2a086704",
   "metadata": {},
   "outputs": [],
   "source": [
    "#Question 1"
   ]
  },
  {
   "cell_type": "code",
   "execution_count": 2,
   "id": "37365286-f597-4d63-ae10-2a3067fb56b0",
   "metadata": {},
   "outputs": [],
   "source": [
    "a = \"jerry\""
   ]
  },
  {
   "cell_type": "code",
   "execution_count": 4,
   "id": "e94ec47c-fce9-4696-8ad1-716979077bfc",
   "metadata": {},
   "outputs": [
    {
     "data": {
      "text/plain": [
       "str"
      ]
     },
     "execution_count": 4,
     "metadata": {},
     "output_type": "execute_result"
    }
   ],
   "source": [
    "type(a)"
   ]
  },
  {
   "cell_type": "code",
   "execution_count": 5,
   "id": "62744eea-a7e6-4003-a647-d41caddc4f76",
   "metadata": {},
   "outputs": [],
   "source": [
    "l = [2,3,4,5,\"hello\",34.78,True]"
   ]
  },
  {
   "cell_type": "code",
   "execution_count": 6,
   "id": "2f070a87-99d7-48e6-b5fc-1680b1a5d295",
   "metadata": {},
   "outputs": [
    {
     "data": {
      "text/plain": [
       "list"
      ]
     },
     "execution_count": 6,
     "metadata": {},
     "output_type": "execute_result"
    }
   ],
   "source": [
    "type(l)"
   ]
  },
  {
   "cell_type": "code",
   "execution_count": 7,
   "id": "69c3051f-968f-481c-84a1-ecebfb613f46",
   "metadata": {},
   "outputs": [],
   "source": [
    "f = 99.99"
   ]
  },
  {
   "cell_type": "code",
   "execution_count": 8,
   "id": "fae36735-1d1d-40f7-abec-5cd650867c2d",
   "metadata": {},
   "outputs": [
    {
     "data": {
      "text/plain": [
       "float"
      ]
     },
     "execution_count": 8,
     "metadata": {},
     "output_type": "execute_result"
    }
   ],
   "source": [
    "type(f)"
   ]
  },
  {
   "cell_type": "code",
   "execution_count": 11,
   "id": "5815b78f-cb22-40e5-94cd-9be4b47739ff",
   "metadata": {},
   "outputs": [],
   "source": [
    "t = (\"hello\",1,\"hii\")"
   ]
  },
  {
   "cell_type": "code",
   "execution_count": 12,
   "id": "9bec79e6-ed4b-4e79-a704-012010fb5b52",
   "metadata": {},
   "outputs": [
    {
     "data": {
      "text/plain": [
       "tuple"
      ]
     },
     "execution_count": 12,
     "metadata": {},
     "output_type": "execute_result"
    }
   ],
   "source": [
    "type(t)"
   ]
  },
  {
   "cell_type": "code",
   "execution_count": 16,
   "id": "6175c937-3d92-4e4c-b14d-0ede3d0e6233",
   "metadata": {},
   "outputs": [],
   "source": [
    "#Question 2"
   ]
  },
  {
   "cell_type": "code",
   "execution_count": 17,
   "id": "515e1ec5-7259-413e-9962-9c1860828033",
   "metadata": {},
   "outputs": [],
   "source": [
    "var1 = ''"
   ]
  },
  {
   "cell_type": "code",
   "execution_count": 18,
   "id": "a24189a6-7289-4ccf-b3b7-04e6992e80cd",
   "metadata": {},
   "outputs": [
    {
     "data": {
      "text/plain": [
       "str"
      ]
     },
     "execution_count": 18,
     "metadata": {},
     "output_type": "execute_result"
    }
   ],
   "source": [
    "type(var1)"
   ]
  },
  {
   "cell_type": "code",
   "execution_count": 19,
   "id": "bc68300b-08b9-41ad-8ea8-49a301af4504",
   "metadata": {},
   "outputs": [],
   "source": [
    "var2 = '[DS,ML,Python]'"
   ]
  },
  {
   "cell_type": "code",
   "execution_count": 20,
   "id": "3834bdaa-9cd9-450c-bb0c-56d42e6e00e1",
   "metadata": {},
   "outputs": [
    {
     "data": {
      "text/plain": [
       "str"
      ]
     },
     "execution_count": 20,
     "metadata": {},
     "output_type": "execute_result"
    }
   ],
   "source": [
    "type(var2)"
   ]
  },
  {
   "cell_type": "code",
   "execution_count": 22,
   "id": "1740d721-a296-46f2-a484-0f12d4e50d90",
   "metadata": {},
   "outputs": [],
   "source": [
    "var3 = ['DS','ML','Python']"
   ]
  },
  {
   "cell_type": "code",
   "execution_count": 23,
   "id": "a8e22922-65ea-4963-983b-b233c472cea1",
   "metadata": {},
   "outputs": [
    {
     "data": {
      "text/plain": [
       "list"
      ]
     },
     "execution_count": 23,
     "metadata": {},
     "output_type": "execute_result"
    }
   ],
   "source": [
    "type(var3)"
   ]
  },
  {
   "cell_type": "code",
   "execution_count": 24,
   "id": "cbf9ab40-8546-4c74-826d-0a7452104b0e",
   "metadata": {},
   "outputs": [],
   "source": [
    "var4 = 1"
   ]
  },
  {
   "cell_type": "code",
   "execution_count": 25,
   "id": "5f6ca46f-e562-42c9-8512-2e422b4fceda",
   "metadata": {},
   "outputs": [
    {
     "data": {
      "text/plain": [
       "int"
      ]
     },
     "execution_count": 25,
     "metadata": {},
     "output_type": "execute_result"
    }
   ],
   "source": [
    "type(var4)"
   ]
  },
  {
   "cell_type": "code",
   "execution_count": 26,
   "id": "1e0aaa2c-25e1-4269-a2a8-8dbecb394b38",
   "metadata": {},
   "outputs": [],
   "source": [
    "#Question 3"
   ]
  },
  {
   "cell_type": "code",
   "execution_count": 27,
   "id": "d28d7b21-014a-481a-8f30-11ff8f086784",
   "metadata": {},
   "outputs": [
    {
     "data": {
      "text/plain": [
       "2.0"
      ]
     },
     "execution_count": 27,
     "metadata": {},
     "output_type": "execute_result"
    }
   ],
   "source": [
    "# (i)The operator '/' is called divison .it is used for dividing one number from another\n",
    "# Example\n",
    "6 / 3"
   ]
  },
  {
   "cell_type": "code",
   "execution_count": 29,
   "id": "c23fb60c-71ca-4223-9f61-351c52304c73",
   "metadata": {},
   "outputs": [
    {
     "data": {
      "text/plain": [
       "1"
      ]
     },
     "execution_count": 29,
     "metadata": {},
     "output_type": "execute_result"
    }
   ],
   "source": [
    "# (ii)The operator '%' is called modulus.it is used for finding modulo of two number\n",
    "# Example\n",
    "6 % 5"
   ]
  },
  {
   "cell_type": "code",
   "execution_count": 1,
   "id": "747a3549-6a5c-468c-816b-2cb2b8d39087",
   "metadata": {},
   "outputs": [
    {
     "data": {
      "text/plain": [
       "1"
      ]
     },
     "execution_count": 1,
     "metadata": {},
     "output_type": "execute_result"
    }
   ],
   "source": [
    "# (iii) the operator '//' is called floor divison.it is use for to divide two number get the result in which the quotient is rounded to th nearest \n",
    "# integer number\n",
    "# Example\n",
    "6//5\n"
   ]
  },
  {
   "cell_type": "code",
   "execution_count": 2,
   "id": "de1764c9-ce84-487f-a2fc-b3cadf713421",
   "metadata": {},
   "outputs": [
    {
     "data": {
      "text/plain": [
       "8"
      ]
     },
     "execution_count": 2,
     "metadata": {},
     "output_type": "execute_result"
    }
   ],
   "source": [
    "# The operator '**' is called Exponentiation . it raises the first operand to the power of second operand\n",
    "# Example\n",
    "2**3"
   ]
  },
  {
   "cell_type": "code",
   "execution_count": 3,
   "id": "515466ab-d105-4555-bc2f-b0eaf1828e59",
   "metadata": {},
   "outputs": [],
   "source": [
    "# Question 4"
   ]
  },
  {
   "cell_type": "code",
   "execution_count": 4,
   "id": "0670b746-d877-480f-b890-2dc4d30a3d95",
   "metadata": {},
   "outputs": [],
   "source": [
    "l = [1,2,3,4,\"patel\",\"kumar\",123.456,True,5+6j,\"hello\"]"
   ]
  },
  {
   "cell_type": "code",
   "execution_count": 24,
   "id": "adc68df5-c2c5-4774-ab69-ba5240c7eb13",
   "metadata": {},
   "outputs": [
    {
     "name": "stdout",
     "output_type": "stream",
     "text": [
      "<class 'int'>\n",
      "1\n",
      "<class 'int'>\n",
      "2\n",
      "<class 'int'>\n",
      "3\n",
      "<class 'int'>\n",
      "4\n",
      "<class 'str'>\n",
      "patel\n",
      "<class 'str'>\n",
      "kumar\n",
      "<class 'float'>\n",
      "123.456\n",
      "<class 'bool'>\n",
      "True\n",
      "<class 'complex'>\n",
      "(5+6j)\n",
      "<class 'str'>\n",
      "hello\n"
     ]
    }
   ],
   "source": [
    "for i in l :\n",
    "    print(type(i))\n",
    "    if i == 0:\n",
    "        continue\n",
    "    print(i)"
   ]
  },
  {
   "cell_type": "code",
   "execution_count": 25,
   "id": "06a726e5-9545-493e-9eab-ec324ccade04",
   "metadata": {},
   "outputs": [],
   "source": [
    "# Question 5"
   ]
  },
  {
   "cell_type": "code",
   "execution_count": 4,
   "id": "670a1737-b6c7-4dc8-95de-7ba478e60f63",
   "metadata": {},
   "outputs": [
    {
     "name": "stdout",
     "output_type": "stream",
     "text": [
      "25 is divisible by 5 and can be divided 2 times.\n"
     ]
    }
   ],
   "source": [
    "a = 25\n",
    "b = 5\n",
    "divisible, count = divisible_count(a, b)\n",
    "if divisible:\n",
    "    print(f\"{a} is divisible by {b} and can be divided {count} times.\")\n",
    "else:\n",
    "    print(f\"{a} is not divisible by {b}.\")\n"
   ]
  },
  {
   "cell_type": "code",
   "execution_count": 5,
   "id": "0ab90b06-7468-4ffa-9c65-4edcc5d7414e",
   "metadata": {},
   "outputs": [],
   "source": [
    "# Question 6"
   ]
  },
  {
   "cell_type": "code",
   "execution_count": 8,
   "id": "3b1142b5-1db1-4de8-af06-5cae8f294ebf",
   "metadata": {},
   "outputs": [],
   "source": [
    "l1 =  [3,6,9,25,45,15,62,85,95,65,32,74,15,23,14,75,84,86,41,45,26,24,21,96,65]"
   ]
  },
  {
   "cell_type": "code",
   "execution_count": 10,
   "id": "3bbda3a4-e357-4783-9fa8-9bd5a2a26a8d",
   "metadata": {},
   "outputs": [
    {
     "name": "stdout",
     "output_type": "stream",
     "text": [
      "3 is divisible by 3\n",
      "6 is divisible by 3\n",
      "9 is divisible by 3\n",
      "25 is not divisible by 3\n",
      "45 is divisible by 3\n",
      "15 is divisible by 3\n",
      "62 is not divisible by 3\n",
      "85 is not divisible by 3\n",
      "95 is not divisible by 3\n",
      "65 is not divisible by 3\n",
      "32 is not divisible by 3\n",
      "74 is not divisible by 3\n",
      "15 is divisible by 3\n",
      "23 is not divisible by 3\n",
      "14 is not divisible by 3\n",
      "75 is divisible by 3\n",
      "84 is divisible by 3\n",
      "86 is not divisible by 3\n",
      "41 is not divisible by 3\n",
      "45 is divisible by 3\n",
      "26 is not divisible by 3\n",
      "24 is divisible by 3\n",
      "21 is divisible by 3\n",
      "96 is divisible by 3\n",
      "65 is not divisible by 3\n"
     ]
    }
   ],
   "source": [
    "for i in l1 :\n",
    "    if i % 3 == 0 :\n",
    "        print(i,\"is divisible by 3\")\n",
    "    elif i % 3 != 0 :\n",
    "        print(i,\"is not divisible by 3\")"
   ]
  },
  {
   "cell_type": "code",
   "execution_count": 11,
   "id": "08a568ae-31ff-4230-a6ef-1d8ed8ba52c2",
   "metadata": {},
   "outputs": [],
   "source": [
    "# Question 7"
   ]
  },
  {
   "cell_type": "code",
   "execution_count": 12,
   "id": "dc84f0d1-a609-41ff-9ebc-35910de2a60c",
   "metadata": {},
   "outputs": [],
   "source": [
    "# MUTABLE DATA TYPE\n",
    "# A mutable data type is a data type whose content can be changed after it is created. \n",
    "l= [1, 2, 3]\n",
    "l.append(4)  # Now m is [1, 2, 3, 4]\n"
   ]
  },
  {
   "cell_type": "code",
   "execution_count": 14,
   "id": "ee6509fa-ace2-4bee-934b-14ccf0b0a4bc",
   "metadata": {},
   "outputs": [],
   "source": [
    "# IMMUTABLE DATA TYPE\n",
    "# An immutable data type is a data type whose content cannot be changed after it is created. \n",
    "str_i = \"hello\"\n",
    "str_new  = my_string.upper()  # str_new is \"HELLO\", str_i is still \"hello\"\n"
   ]
  },
  {
   "cell_type": "code",
   "execution_count": 15,
   "id": "21535258-78b8-47c0-b57a-2a3d3ff53175",
   "metadata": {},
   "outputs": [],
   "source": []
  },
  {
   "cell_type": "code",
   "execution_count": null,
   "id": "87664a13-4ff6-4e30-8c69-91438e107804",
   "metadata": {},
   "outputs": [],
   "source": []
  }
 ],
 "metadata": {
  "kernelspec": {
   "display_name": "Python 3 (ipykernel)",
   "language": "python",
   "name": "python3"
  },
  "language_info": {
   "codemirror_mode": {
    "name": "ipython",
    "version": 3
   },
   "file_extension": ".py",
   "mimetype": "text/x-python",
   "name": "python",
   "nbconvert_exporter": "python",
   "pygments_lexer": "ipython3",
   "version": "3.10.8"
  }
 },
 "nbformat": 4,
 "nbformat_minor": 5
}
